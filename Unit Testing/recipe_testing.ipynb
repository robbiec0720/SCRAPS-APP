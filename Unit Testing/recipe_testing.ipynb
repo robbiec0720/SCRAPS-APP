{
 "cells": [
  {
   "cell_type": "code",
   "execution_count": 82,
   "metadata": {},
   "outputs": [
    {
     "name": "stdout",
     "output_type": "stream",
     "text": [
      "Defaulting to user installation because normal site-packages is not writeable\n",
      "Requirement already satisfied: python-dotenv==1.0.1 in c:\\users\\robbie\\appdata\\roaming\\python\\python312\\site-packages (1.0.1)\n"
     ]
    }
   ],
   "source": [
    "import csv\n",
    "import random\n",
    "import requests\n",
    "import numpy as np\n",
    "!pip install python-dotenv==1.0.1"
   ]
  },
  {
   "cell_type": "code",
   "execution_count": 32,
   "metadata": {},
   "outputs": [],
   "source": [
    "import os\n",
    "import dotenv\n",
    "\n",
    "dotenv_path = os.path.join(os.path.abspath(''), '../', '.env')\n",
    "\n",
    "dotenv.load_dotenv(dotenv_path)\n",
    "\n",
    "node_url = os.getenv(\"EXPO_NODE_URL\") + ':' + os.getenv(\"PORT\")\n",
    "flask_url = os.getenv(\"EXPO_FLASK_URL\")\n",
    "\n",
    "user_url = node_url + \"/api/v1/user\"\n",
    "flask_url = \"http://10.183.200.58\" + \":9000\""
   ]
  },
  {
   "cell_type": "code",
   "execution_count": 54,
   "metadata": {},
   "outputs": [],
   "source": [
    "file = open('../Recipe Data/common_ingredients.txt', 'r')\n",
    "ingredient_list = [i[:-1] for i in file.readlines()]\n",
    "file.close()"
   ]
  },
  {
   "cell_type": "code",
   "execution_count": 55,
   "metadata": {},
   "outputs": [
    {
     "name": "stdout",
     "output_type": "stream",
     "text": [
      "['salt', 'sugar', 'flour', 'eggs', 'butter', 'onion', 'milk', 'vanilla', 'water', 'margarine', 'pepper', 'brown sugar', 'egg', 'baking powder', 'cinnamon', 'cream cheese', 'sour cream', 'nuts', 'celery', 'cheddar cheese', 'pineapple', 'pecans', 'tomatoes', 'oil', 'baking soda', 'onions', 'garlic', 'lemon juice', 'mayonnaise', 'soda', 'vinegar', 'green pepper', 'ground beef', 'chicken', 'shortening', 'potatoes', 'worcestershire sauce', 'cream of mushroom soup', 'parmesan cheese', 'rice', 'carrots', 'powdered sugar', 'parsley', 'cream of chicken soup', 'mushrooms', 'nutmeg', 'oleo', 'bacon', 'cocoa', 'raisins', 'buttermilk', 'coconut', 'mustard', 'tomato sauce', 'vegetable oil', 'bread crumbs', 'cornstarch', 'boiling water', 'peanut butter', 'walnuts', 'oregano', 'bananas', 'chicken breasts', 'green onions', 'paprika', 'chocolate chips', 'marshmallows', 'chicken broth', 'clove garlic', 'soy sauce', 'garlic powder', 'chili powder', 'cheese', 'olive oil', 'mozzarella cheese', 'orange juice', 'apples', 'black pepper', 'broccoli', 'hamburger', 'grated cheese', 'bread', 'white sugar', 'bell pepper', 'corn', 'zucchini', 'cold water', 'egg whites', 'cloves', 'dry mustard', 'garlic salt', 'basil', 'confectioners sugar', 'catsup', 'condensed milk', 'egg yolks', 'yeast', 'vanilla extract', 'crackers', 'salad oil']\n"
     ]
    }
   ],
   "source": [
    "print(ingredient_list)"
   ]
  },
  {
   "cell_type": "code",
   "execution_count": 77,
   "metadata": {},
   "outputs": [],
   "source": [
    "n = 100\n",
    "scores = {1: [], 2: [], 3: [], 4: [], 5: [], 6: [], 7: [], 8: [], 9: [], 10: []}\n",
    "for _ in range(n):\n",
    "    num = random.randint(1, 10)\n",
    "    ingredients = random.choices(ingredient_list, k=num)\n",
    "    data = {'cookTime': 60, 'missing': 5, 'ingredients': ingredients}\n",
    "    recipes = requests.post(flask_url + '/recommend', json=data)\n",
    "    for r in recipes.json():\n",
    "        scores[num].append(r['score'])"
   ]
  },
  {
   "cell_type": "code",
   "execution_count": 78,
   "metadata": {},
   "outputs": [
    {
     "name": "stdout",
     "output_type": "stream",
     "text": [
      "Number of Ingredients: 1\n",
      "Min Score: 0.5681603532221\n",
      "Max Score: 1.0\n",
      "Average Score: 0.7008338816075504\n",
      "Median Score: 0.6906051656781996\n",
      "\n",
      "Number of Ingredients: 2\n",
      "Min Score: 0.4521357429158356\n",
      "Max Score: 0.9165097728206045\n",
      "Average Score: 0.6297622464913678\n",
      "Median Score: 0.613754292619894\n",
      "\n",
      "Number of Ingredients: 3\n",
      "Min Score: 0.43403584437447157\n",
      "Max Score: 0.7747838927272415\n",
      "Average Score: 0.5464789039420511\n",
      "Median Score: 0.5365592644724485\n",
      "\n",
      "Number of Ingredients: 4\n",
      "Min Score: 0.36600702493139364\n",
      "Max Score: 0.8822523749916166\n",
      "Average Score: 0.5381692082556375\n",
      "Median Score: 0.5156774543738811\n",
      "\n",
      "Number of Ingredients: 5\n",
      "Min Score: 0.42682111971413284\n",
      "Max Score: 0.7319508133285628\n",
      "Average Score: 0.5346385211870007\n",
      "Median Score: 0.5282856813131414\n",
      "\n",
      "Number of Ingredients: 6\n",
      "Min Score: 0.39702912848527905\n",
      "Max Score: 0.7318193172404083\n",
      "Average Score: 0.47425838154748534\n",
      "Median Score: 0.4658148997535019\n",
      "\n",
      "Number of Ingredients: 7\n",
      "Min Score: 0.39126624068292515\n",
      "Max Score: 0.72210907350374\n",
      "Average Score: 0.48204275524404894\n",
      "Median Score: 0.4746988257713065\n",
      "\n",
      "Number of Ingredients: 8\n",
      "Min Score: 0.34401888675843506\n",
      "Max Score: 0.7254856928949931\n",
      "Average Score: 0.4833334634313919\n",
      "Median Score: 0.4794973165274089\n",
      "\n",
      "Number of Ingredients: 9\n",
      "Min Score: 0.3461973641813595\n",
      "Max Score: 0.6415440250091533\n",
      "Average Score: 0.4568022432061908\n",
      "Median Score: 0.453596499777958\n",
      "\n",
      "Number of Ingredients: 10\n",
      "Min Score: 0.3568940208076439\n",
      "Max Score: 0.579015164328389\n",
      "Average Score: 0.45597267572203515\n",
      "Median Score: 0.45438227986637747\n",
      "\n"
     ]
    }
   ],
   "source": [
    "for num in scores:\n",
    "    print(f'Number of Ingredients: {num}')\n",
    "    print(f'Min Score: {np.min(scores[num])}')\n",
    "    print(f'Max Score: {np.max(scores[num])}')\n",
    "    print(f'Average Score: {np.average(scores[num])}')\n",
    "    print(f'Median Score: {np.median(scores[num])}')\n",
    "    print()"
   ]
  },
  {
   "cell_type": "code",
   "execution_count": 88,
   "metadata": {},
   "outputs": [],
   "source": [
    "max_len = 0\n",
    "for num in scores:\n",
    "    max_len = max(max_len, len(scores[num]))\n",
    "\n",
    "file = open('scores.csv', 'w', newline='\\n')\n",
    "writer = csv.DictWriter(file, fieldnames=scores.keys())\n",
    "writer.writeheader()\n",
    "for i in range(max_len):\n",
    "    row = {num: '' if i >= len(scores[num]) else scores[num][i] for num in scores.keys()}\n",
    "    writer.writerow(row)\n",
    "file.close()"
   ]
  }
 ],
 "metadata": {
  "kernelspec": {
   "display_name": "Python 3",
   "language": "python",
   "name": "python3"
  },
  "language_info": {
   "codemirror_mode": {
    "name": "ipython",
    "version": 3
   },
   "file_extension": ".py",
   "mimetype": "text/x-python",
   "name": "python",
   "nbconvert_exporter": "python",
   "pygments_lexer": "ipython3",
   "version": "3.10.7"
  }
 },
 "nbformat": 4,
 "nbformat_minor": 2
}

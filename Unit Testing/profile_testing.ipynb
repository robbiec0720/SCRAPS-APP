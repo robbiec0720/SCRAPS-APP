{
 "cells": [
  {
   "cell_type": "code",
   "execution_count": 1,
   "metadata": {},
   "outputs": [
    {
     "name": "stdout",
     "output_type": "stream",
     "text": [
      "Collecting python-dotenv==1.0.1\n",
      "  Using cached python_dotenv-1.0.1-py3-none-any.whl (19 kB)\n",
      "Installing collected packages: python-dotenv\n",
      "Successfully installed python-dotenv-1.0.1\n"
     ]
    },
    {
     "name": "stderr",
     "output_type": "stream",
     "text": [
      "\n",
      "[notice] A new release of pip is available: 23.0.1 -> 24.0\n",
      "[notice] To update, run: python.exe -m pip install --upgrade pip\n"
     ]
    }
   ],
   "source": [
    "import json\n",
    "import string\n",
    "import random\n",
    "import requests\n",
    "!pip install python-dotenv==1.0.1"
   ]
  },
  {
   "cell_type": "code",
   "execution_count": 2,
   "metadata": {},
   "outputs": [],
   "source": [
    "# data generation\n",
    "n = 100\n",
    "len = 10\n",
    "emails = []\n",
    "usernames = []\n",
    "passwords = []\n",
    "validation = set()\n",
    "\n",
    "new_emails = []\n",
    "new_passwords = []\n",
    "email_validation = set()\n",
    "password_validation = set()\n",
    "\n",
    "for i in range(n):\n",
    "    em = ''.join(random.choices(string.ascii_uppercase + string.ascii_lowercase + string.digits, k=len)) + '@gmail.com'\n",
    "    user = ''.join(random.choices(string.ascii_uppercase + string.ascii_lowercase + string.digits, k=len))\n",
    "    pwd = ''.join(random.choices(string.ascii_uppercase + string.ascii_lowercase + string.digits, k=len))\n",
    "    \n",
    "    if i % 2 == 0:\n",
    "        new_em = ''.join(random.choices(string.ascii_uppercase + string.ascii_lowercase + string.digits, k=len)) + '@gmail.com'\n",
    "        new_emails.append(new_em)\n",
    "        email_validation.add((user, new_em, pwd))\n",
    "    else:\n",
    "        new_pwd = ''.join(random.choices(string.ascii_uppercase + string.ascii_lowercase + string.digits, k=len))\n",
    "        new_passwords.append(new_pwd)\n",
    "        password_validation.add((user, em, new_pwd))\n",
    "    \n",
    "    emails.append(em)\n",
    "    usernames.append(user)\n",
    "    passwords.append(pwd)\n",
    "    validation.add((user, em, pwd))    "
   ]
  },
  {
   "cell_type": "code",
   "execution_count": 89,
   "metadata": {},
   "outputs": [],
   "source": [
    "# print(emails[:10])\n",
    "# print(usernames[:10])\n",
    "# print(passwords[:10])"
   ]
  },
  {
   "cell_type": "code",
   "execution_count": 4,
   "metadata": {},
   "outputs": [],
   "source": [
    "import os\n",
    "import dotenv\n",
    "\n",
    "dotenv_path = os.path.join(os.path.abspath(''), '../', '.env')\n",
    "\n",
    "dotenv.load_dotenv(dotenv_path)\n",
    "\n",
    "node_url = os.getenv(\"EXPO_NODE_URL\") + ':' + os.getenv(\"PORT\")\n",
    "flask_url = os.getenv(\"EXPO_FLASK_URL\")\n",
    "\n",
    "user_url = node_url + \"/api/v1/user\"\n",
    "flask_url = flask_url + \":9000\""
   ]
  },
  {
   "cell_type": "code",
   "execution_count": 5,
   "metadata": {},
   "outputs": [
    {
     "name": "stdout",
     "output_type": "stream",
     "text": [
      "Testing creating new accounts\n",
      "-----------------------------\n",
      "Expected Success Rate: 100%\n",
      "100.00% of registrations were successful\n"
     ]
    }
   ],
   "source": [
    "# Register API Calls\n",
    "success = 0\n",
    "for i in range(n):\n",
    "    data = {'username': usernames[i], 'email': emails[i], 'password':  passwords[i]}\n",
    "    r = requests.post(user_url + \"/register\", json=data)\n",
    "    if r.status_code == 201:\n",
    "        success += 1\n",
    "\n",
    "print('Testing creating new accounts')\n",
    "print('-----------------------------')\n",
    "print('Expected Success Rate: 100%')\n",
    "print(f'{success / n * 100:.2f}% of registrations were successful')"
   ]
  },
  {
   "cell_type": "code",
   "execution_count": 6,
   "metadata": {},
   "outputs": [
    {
     "name": "stdout",
     "output_type": "stream",
     "text": [
      "Validating account creation\n",
      "---------------------------\n",
      "100 accounts out of 100 were found in the database\n"
     ]
    }
   ],
   "source": [
    "# Register Validation\n",
    "valid = 0\n",
    "rows = requests.get(user_url + \"/\")\n",
    "for r in rows.json():\n",
    "    if (r['username'], r['email'], r['password']) in validation:\n",
    "        valid += 1\n",
    "        \n",
    "print('Validating account creation')\n",
    "print('---------------------------')\n",
    "print(f'{valid} accounts out of {n} were found in the database')"
   ]
  },
  {
   "cell_type": "code",
   "execution_count": 7,
   "metadata": {},
   "outputs": [
    {
     "name": "stdout",
     "output_type": "stream",
     "text": [
      "Testing registering with existing email\n",
      "---------------------------------------\n",
      "Expected Fail Rate: 100%\n",
      "100.00% of registrations failed\n"
     ]
    }
   ],
   "source": [
    "# Register with existing emails\n",
    "fail = 0\n",
    "for i in range(n):\n",
    "    data = {'username': usernames[i], 'email': emails[i], 'password':  passwords[i]}\n",
    "    r = requests.post(user_url + \"/register\", json=data)\n",
    "    if r.status_code == 500:\n",
    "        fail += 1\n",
    "        \n",
    "print('Testing registering with existing email')\n",
    "print('---------------------------------------')\n",
    "print('Expected Fail Rate: 100%')\n",
    "print(f'{fail / n * 100:.2f}% of registrations failed')"
   ]
  },
  {
   "cell_type": "code",
   "execution_count": 8,
   "metadata": {},
   "outputs": [
    {
     "name": "stdout",
     "output_type": "stream",
     "text": [
      "Testing registering with missing fields\n",
      "---------------------------------------\n",
      "Expected Fail Rate: 100%\n",
      "100.00% of registrations failed\n",
      "Missing usernames: 34\n",
      "Missing emails: 33\n",
      "Missing passwords: 33\n"
     ]
    }
   ],
   "source": [
    "# Register with missing field(s)\n",
    "em = 0\n",
    "user = 0\n",
    "pwd = 0\n",
    "for i in range(n):\n",
    "    data = {'username': usernames[i], 'email': emails[i], 'password':  passwords[i]}\n",
    "    if i % 3 == 0:\n",
    "        data['username'] = ''\n",
    "    if i % 3 == 1:\n",
    "        data['email'] = ''\n",
    "    if i % 3 == 2:\n",
    "        data['password'] = ''\n",
    "        \n",
    "    r = requests.post(user_url + \"/register\", json=data)\n",
    "    if r.status_code == 400:\n",
    "        if r.json()['message'] == 'username required':\n",
    "            user += 1\n",
    "        if r.json()['message'] == 'email required':\n",
    "            em += 1\n",
    "        if r.json()['message'] == 'password required':\n",
    "            pwd += 1\n",
    "            \n",
    "print('Testing registering with missing fields')\n",
    "print('---------------------------------------')\n",
    "print('Expected Fail Rate: 100%')\n",
    "print(f'{(user + em + pwd) / n * 100:.2f}% of registrations failed')\n",
    "print(f'Missing usernames: {user}')\n",
    "print(f'Missing emails: {em}')\n",
    "print(f'Missing passwords: {pwd}')"
   ]
  },
  {
   "cell_type": "code",
   "execution_count": 11,
   "metadata": {},
   "outputs": [
    {
     "name": "stdout",
     "output_type": "stream",
     "text": [
      "Testing Logging in with CORRECT credentials\n",
      "-----------------------------\n",
      "Expected Success Rate: 100%\n",
      "100.00% of logins were successful\n"
     ]
    }
   ],
   "source": [
    "# Login API Calls\n",
    "success = 0\n",
    "ids = []\n",
    "for i in range(n):\n",
    "    data = {\"username\": usernames[i], \"password\": passwords[i]}\n",
    "    r = requests.post(user_url + \"/login\", json=data)\n",
    "    if r.status_code == 201:\n",
    "        success += 1\n",
    "        ids.append(r.json()['user']['id'])\n",
    "\n",
    "print('Testing Logging in with CORRECT credentials')\n",
    "print('-----------------------------')\n",
    "print('Expected Success Rate: 100%')\n",
    "print(f\"{success / n * 100:.2f}% of logins were successful\")\n"
   ]
  },
  {
   "cell_type": "code",
   "execution_count": 16,
   "metadata": {},
   "outputs": [
    {
     "name": "stdout",
     "output_type": "stream",
     "text": [
      "Testing Logging in with INCORRECT credentials\n",
      "-----------------------------\n",
      "Expected Fail Rate: 100%\n",
      "100.00% of invalid logins failed\n"
     ]
    }
   ],
   "source": [
    "# Login Validation\n",
    "fail = 0\n",
    "for i in range(n):\n",
    "    data = {\"username\": usernames[i], \"password\": passwords[i] + \"#\"}\n",
    "    r = requests.post(user_url + \"/login\", json=data)\n",
    "    if r.status_code == 404:\n",
    "        fail += 1\n",
    "\n",
    "print('Testing Logging in with INCORRECT credentials')\n",
    "print('-----------------------------')\n",
    "print('Expected Fail Rate: 100%')\n",
    "print(f\"{fail / n * 100:.2f}% of invalid logins failed\")"
   ]
  },
  {
   "cell_type": "code",
   "execution_count": 15,
   "metadata": {},
   "outputs": [
    {
     "name": "stdout",
     "output_type": "stream",
     "text": [
      "Testing login with missing fields\n",
      "---------------------------------------\n",
      "Expected Fail Rate: 100%\n",
      "100.00% of logins failed\n"
     ]
    }
   ],
   "source": [
    "#Login with missing fields\n",
    "\n",
    "fail = 0\n",
    "for i in range(n):\n",
    "    data = {'username': usernames[i], 'password':  passwords[i]}\n",
    "    if i % 2 == 0:\n",
    "        data['username'] = ''\n",
    "    if i % 2 == 1:\n",
    "        data['password'] = ''\n",
    "        \n",
    "    r = requests.post(user_url + \"/login\", json=data)\n",
    "    if r.status_code == 500:\n",
    "        if r.json()[\"message\"] == 'Please provide username or password':\n",
    "            fail += 1\n",
    "print('Testing login with missing fields')\n",
    "print('---------------------------------------')\n",
    "print('Expected Fail Rate: 100%')\n",
    "print(f'{fail / n * 100:.2f}% of logins failed')"
   ]
  },
  {
   "cell_type": "code",
   "execution_count": 17,
   "metadata": {},
   "outputs": [
    {
     "name": "stdout",
     "output_type": "stream",
     "text": [
      "Testing updating dietary restrictions\n",
      "-----------------------------\n",
      "Expected Success Rate: 100%\n",
      "100.00% of update requests successful\n"
     ]
    }
   ],
   "source": [
    "# Preference Update API Calls\n",
    "restrictions = {}\n",
    "fields = {\"vegetarian\", \"vegan\", \"halal\", \"kosher\", \"lactose\", \"gluten\",\n",
    "          \"nut\", \"shellfish\", \"pescatarian\"}\n",
    "success = 0\n",
    "for i in range(n):\n",
    "    user_restrictions = {\"id\" : ids[i]}\n",
    "    for field in fields:\n",
    "        user_restrictions[field] = bool(random.getrandbits(1))\n",
    "    \n",
    "    restrictions[(usernames[i], emails[i], passwords[i])] = user_restrictions\n",
    "    \n",
    "    r = requests.post(user_url + \"/updateDietaryRestrictions\", json=user_restrictions)\n",
    "    if r.status_code == 201:\n",
    "        success += 1\n",
    "print('Testing updating dietary restrictions')\n",
    "print('-----------------------------')\n",
    "print('Expected Success Rate: 100%')\n",
    "print(f\"{success / n * 100:.2f}% of update requests successful\")\n",
    "\n"
   ]
  },
  {
   "cell_type": "code",
   "execution_count": 19,
   "metadata": {},
   "outputs": [
    {
     "name": "stdout",
     "output_type": "stream",
     "text": [
      "Validating dietary restrictions updated\n",
      "---------------------------\n",
      "100 accounts out of 100 were updated properly\n"
     ]
    }
   ],
   "source": [
    "# Preference Update Validation\n",
    "valid = 0\n",
    "rows = requests.get(user_url + \"/\")\n",
    "for r in rows.json():\n",
    "    cv = True\n",
    "    key = (r['username'], r['email'], r['password'])\n",
    "    if key in restrictions:\n",
    "        for field in fields:\n",
    "            if r[field] != restrictions[key][field]:\n",
    "                cv = False\n",
    "                break\n",
    "        if cv:\n",
    "            valid += 1\n",
    "\n",
    "print('Validating dietary restrictions updated')\n",
    "print('---------------------------')\n",
    "print(f'{valid} accounts out of {n} were updated properly')\n"
   ]
  },
  {
   "cell_type": "code",
   "execution_count": 99,
   "metadata": {},
   "outputs": [
    {
     "name": "stdout",
     "output_type": "stream",
     "text": [
      "Testing resetting email\n",
      "-----------------------\n",
      "Expected Success Rate: 100%\n",
      "100.00% of resets were successful\n"
     ]
    }
   ],
   "source": [
    "# Reset Email API Calls\n",
    "success = 0\n",
    "for i in range(0, n, 2):\n",
    "    data = {'oldEmail': emails[i], 'newEmail': new_emails[i//2], 'password':  passwords[i]}\n",
    "    r = requests.post(user_url + \"/resetEmail\", json=data)\n",
    "    if r.status_code == 201:\n",
    "        success += 1\n",
    "\n",
    "print('Testing resetting email')\n",
    "print('-----------------------')\n",
    "print('Expected Success Rate: 100%')\n",
    "print(f'{success / (n//2) * 100:.2f}% of resets were successful')"
   ]
  },
  {
   "cell_type": "code",
   "execution_count": 100,
   "metadata": {},
   "outputs": [
    {
     "name": "stdout",
     "output_type": "stream",
     "text": [
      "Validating email reset\n",
      "----------------------\n",
      "50 accounts out of 50 were found in the database\n"
     ]
    }
   ],
   "source": [
    "# Reset Email Validation\n",
    "valid = 0\n",
    "rows = requests.get(user_url + \"/\")\n",
    "for r in rows.json():\n",
    "    if (r['username'], r['email'], r['password']) in email_validation:\n",
    "        valid += 1\n",
    "        \n",
    "print('Validating email reset')\n",
    "print('----------------------')\n",
    "print(f'{valid} accounts out of {n//2} were found in the database')"
   ]
  },
  {
   "cell_type": "code",
   "execution_count": 101,
   "metadata": {},
   "outputs": [
    {
     "name": "stdout",
     "output_type": "stream",
     "text": [
      "Testing resetting email with non-existing user\n",
      "----------------------------------------------\n",
      "Expected Fail Rate: 100%\n",
      "100.00% of resets failed\n"
     ]
    }
   ],
   "source": [
    "# Reset Email with non-existing user\n",
    "fail = 0\n",
    "for i in range(0, n, 2):\n",
    "    data = {'oldEmail': emails[i], 'newEmail': new_emails[i//2], 'password':  passwords[i]}\n",
    "    r = requests.post(user_url + \"/resetEmail\", json=data)\n",
    "    if r.status_code == 500 and r.json()['message'] == 'user does not exist':\n",
    "        fail += 1\n",
    "\n",
    "print('Testing resetting email with non-existing user')\n",
    "print('----------------------------------------------')\n",
    "print('Expected Fail Rate: 100%')\n",
    "print(f'{fail / (n//2) * 100:.2f}% of resets failed')"
   ]
  },
  {
   "cell_type": "code",
   "execution_count": 102,
   "metadata": {},
   "outputs": [
    {
     "name": "stdout",
     "output_type": "stream",
     "text": [
      "Testing resetting email with missing field(s)\n",
      "---------------------------------------------\n",
      "Expected Fail Rate: 100%\n",
      "100.00% of resets failed\n"
     ]
    }
   ],
   "source": [
    "# Reset Email with missing field(s)\n",
    "fail = 0\n",
    "for i in range(0, n, 2):\n",
    "    data = {'oldEmail': emails[i], 'newEmail': new_emails[i//2], 'password':  passwords[i]}\n",
    "    if i % 3 == 0:\n",
    "        data['oldEmail'] = ''\n",
    "    if i % 3 == 1:\n",
    "        data['newEmail'] = ''\n",
    "    if i % 3 == 2:\n",
    "        data['password'] = ''\n",
    "        \n",
    "    r = requests.post(user_url + \"/resetEmail\", json=data)\n",
    "    if r.status_code == 500 and r.json()['message'] == 'Please provide username or password':\n",
    "        fail += 1\n",
    "\n",
    "print('Testing resetting email with missing field(s)')\n",
    "print('---------------------------------------------')\n",
    "print('Expected Fail Rate: 100%')\n",
    "print(f'{fail / (n//2) * 100:.2f}% of resets failed')"
   ]
  },
  {
   "cell_type": "code",
   "execution_count": 103,
   "metadata": {},
   "outputs": [
    {
     "name": "stdout",
     "output_type": "stream",
     "text": [
      "Testing resetting password\n",
      "--------------------------\n",
      "Expected Success Rate: 100%\n",
      "100.00% of resets were successful\n"
     ]
    }
   ],
   "source": [
    "# Reset Password API Calls\n",
    "success = 0\n",
    "for i in range(1, n, 2):\n",
    "    data = {'oldPassword': passwords[i], 'email': emails[i], 'newPassword':  new_passwords[i//2]}\n",
    "    r = requests.post(user_url + \"/resetPassword\", json=data)\n",
    "    if r.status_code == 201:\n",
    "        success += 1\n",
    "\n",
    "print('Testing resetting password')\n",
    "print('--------------------------')\n",
    "print('Expected Success Rate: 100%')\n",
    "print(f'{success / (n//2) * 100:.2f}% of resets were successful')"
   ]
  },
  {
   "cell_type": "code",
   "execution_count": 104,
   "metadata": {},
   "outputs": [
    {
     "name": "stdout",
     "output_type": "stream",
     "text": [
      "Validating password reset\n",
      "-------------------------\n",
      "50 accounts out of 50 were found in the database\n"
     ]
    }
   ],
   "source": [
    "# Reset Password Validation\n",
    "valid = 0\n",
    "rows = requests.get(user_url + \"/\")\n",
    "for r in rows.json():\n",
    "    if (r['username'], r['email'], r['password']) in email_validation:\n",
    "        valid += 1\n",
    "        \n",
    "print('Validating password reset')\n",
    "print('-------------------------')\n",
    "print(f'{valid} accounts out of {n//2} were found in the database')"
   ]
  },
  {
   "cell_type": "code",
   "execution_count": 105,
   "metadata": {},
   "outputs": [
    {
     "name": "stdout",
     "output_type": "stream",
     "text": [
      "Testing resetting password with non-existing user\n",
      "-------------------------------------------------\n",
      "Expected Fail Rate: 100%\n",
      "100.00% of resets failed\n"
     ]
    }
   ],
   "source": [
    "# Reset Password with non-existing user\n",
    "fail = 0\n",
    "for i in range(1, n, 2):\n",
    "    data = {'oldPassword': passwords[i], 'email': emails[i], 'newPassword':  new_passwords[i//2]}\n",
    "    r = requests.post(user_url + \"/resetPassword\", json=data)\n",
    "    if r.status_code == 500 and r.json()['message'] == 'user does not exist':\n",
    "        fail += 1\n",
    "\n",
    "print('Testing resetting password with non-existing user')\n",
    "print('-------------------------------------------------')\n",
    "print('Expected Fail Rate: 100%')\n",
    "print(f'{fail / (n//2) * 100:.2f}% of resets failed')"
   ]
  },
  {
   "cell_type": "code",
   "execution_count": 106,
   "metadata": {},
   "outputs": [
    {
     "name": "stdout",
     "output_type": "stream",
     "text": [
      "Testing resetting password with missing field(s)\n",
      "------------------------------------------------\n",
      "Expected Fail Rate: 100%\n",
      "100.00% of resets failed\n"
     ]
    }
   ],
   "source": [
    "# Reset Password with missing field(s)\n",
    "fail = 0\n",
    "for i in range(0, n, 2):\n",
    "    data = {'oldPassword': passwords[i], 'email': emails[i], 'newPassword':  new_passwords[i//2]}\n",
    "    if i % 3 == 0:\n",
    "        data['oldPassword'] = ''\n",
    "    if i % 3 == 1:\n",
    "        data['email'] = ''\n",
    "    if i % 3 == 2:\n",
    "        data['newPassword'] = ''\n",
    "        \n",
    "    r = requests.post(user_url + \"/resetPassword\", json=data)\n",
    "    if r.status_code == 500 and r.json()['message'] == 'Please provide username or password':\n",
    "        fail += 1\n",
    "\n",
    "print('Testing resetting password with missing field(s)')\n",
    "print('------------------------------------------------')\n",
    "print('Expected Fail Rate: 100%')\n",
    "print(f'{fail / (n//2) * 100:.2f}% of resets failed')"
   ]
  },
  {
   "cell_type": "code",
   "execution_count": 107,
   "metadata": {},
   "outputs": [],
   "source": [
    "# Delete Users"
   ]
  }
 ],
 "metadata": {
  "kernelspec": {
   "display_name": "Python 3",
   "language": "python",
   "name": "python3"
  },
  "language_info": {
   "codemirror_mode": {
    "name": "ipython",
    "version": 3
   },
   "file_extension": ".py",
   "mimetype": "text/x-python",
   "name": "python",
   "nbconvert_exporter": "python",
   "pygments_lexer": "ipython3",
   "version": "3.10.11"
  }
 },
 "nbformat": 4,
 "nbformat_minor": 2
}

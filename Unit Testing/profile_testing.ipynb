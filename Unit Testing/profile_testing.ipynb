{
 "cells": [
  {
   "cell_type": "code",
   "execution_count": 7,
   "metadata": {},
   "outputs": [],
   "source": [
    "import json\n",
    "import string\n",
    "import random\n",
    "import requests"
   ]
  },
  {
   "cell_type": "code",
   "execution_count": 31,
   "metadata": {},
   "outputs": [],
   "source": [
    "# data generation\n",
    "n = 100\n",
    "len = 10\n",
    "emails = []\n",
    "usernames = []\n",
    "passwords = []\n",
    "validation = set()\n",
    "\n",
    "for _ in range(n):\n",
    "    em = ''.join(random.choices(string.ascii_uppercase + string.ascii_lowercase + string.digits, k=len)) + '@gmail.com'\n",
    "    user = ''.join(random.choices(string.ascii_uppercase + string.ascii_lowercase + string.digits, k=len))\n",
    "    pwd = ''.join(random.choices(string.ascii_uppercase + string.ascii_lowercase + string.digits, k=len))\n",
    "    \n",
    "    emails.append(em)\n",
    "    usernames.append(user)\n",
    "    passwords.append(pwd)\n",
    "    validation.add((user, em, pwd))"
   ]
  },
  {
   "cell_type": "code",
   "execution_count": 9,
   "metadata": {},
   "outputs": [
    {
     "name": "stdout",
     "output_type": "stream",
     "text": [
      "['keMq81cZx9@gmail.com', 'GAGlaHkCbo@gmail.com', 'd8ruPfLNtJ@gmail.com', 'khhWSKYS2k@gmail.com', 'jn4EQV8Far@gmail.com', 'Damo25RLOz@gmail.com', 'e1igAgp2Sd@gmail.com', 'jkCYGEEQeH@gmail.com', 'p29TU3sgAA@gmail.com', 'EJJvRr7NNl@gmail.com']\n",
      "['dsItYqRTPU', 'xU2xSmgqaI', 'pl4aRaAheZ', '2N3BYRzDGL', 'aG1gJTdqQ4', 'YCl1Y4Lf78', 'fETLc2TkNk', 'WmNs0koW83', 'Xcf0BlYnrG', '0fXQVDUHg4']\n",
      "['99nypNMesn', 'oowfHg3uQj', 'FFGCfffaCF', 'Y2SvjiWcjS', 'rG8rokhB3a', 'BtUquZfnWk', 'WCYoYLkKp2', '8NF8Ft2v1u', 'e36uWhgEb4', 'bnNGdRjN5M']\n"
     ]
    }
   ],
   "source": [
    "print(emails[:10])\n",
    "print(usernames[:10])\n",
    "print(passwords[:10])"
   ]
  },
  {
   "cell_type": "code",
   "execution_count": 10,
   "metadata": {},
   "outputs": [],
   "source": [
    "import os\n",
    "import dotenv\n",
    "\n",
    "dotenv_path = os.path.join(os.path.abspath(''), '../', '.env')\n",
    "\n",
    "dotenv.load_dotenv(dotenv_path)\n",
    "\n",
    "node_url = os.getenv(\"EXPO_NODE_URL\") + ':' + os.getenv(\"PORT\")\n",
    "flask_url = os.getenv(\"EXPO_FLASK_URL\")\n",
    "\n",
    "user_url = node_url + \"/api/v1/user\"\n",
    "flask_url = flask_url + \":9000\""
   ]
  },
  {
   "cell_type": "code",
   "execution_count": 36,
   "metadata": {},
   "outputs": [
    {
     "name": "stdout",
     "output_type": "stream",
     "text": [
      "Expected Success Rate: 100%\n",
      "100.00% of registrations were successful\n"
     ]
    }
   ],
   "source": [
    "# Register API Calls\n",
    "success = 0\n",
    "for i in range(n):\n",
    "    data = {'username': usernames[i], 'email': emails[i], 'password':  passwords[i]}\n",
    "    r = requests.post(user_url + \"/register\", json=data)\n",
    "    if r.status_code == 201:\n",
    "        success += 1\n",
    "\n",
    "print('Testing creating new accounts')\n",
    "print('-----------------------------')\n",
    "print('Expected Success Rate: 100%')\n",
    "print(f'{success / n * 100:.2f}% of registrations were successful')"
   ]
  },
  {
   "cell_type": "code",
   "execution_count": 37,
   "metadata": {},
   "outputs": [
    {
     "name": "stdout",
     "output_type": "stream",
     "text": [
      "100 accounts out of 100 were found in the database\n"
     ]
    }
   ],
   "source": [
    "# Register Validation\n",
    "valid = 0\n",
    "rows = requests.get(user_url + \"/\")\n",
    "for r in rows.json():\n",
    "    if (r['username'], r['email'], r['password']) in validation:\n",
    "        valid += 1\n",
    "        \n",
    "print('Validating account creation')\n",
    "print('---------------------------')\n",
    "print(f'{valid} accounts out of {n} were found in the database')"
   ]
  },
  {
   "cell_type": "code",
   "execution_count": 38,
   "metadata": {},
   "outputs": [
    {
     "name": "stdout",
     "output_type": "stream",
     "text": [
      "Testing registering with existing emial\n",
      "---------------------------------------\n",
      "Expected Fail Rate: 100%\n",
      "100.00% of registrations failed\n"
     ]
    }
   ],
   "source": [
    "# Failed Register API Calls\n",
    "fail = 0\n",
    "for i in range(n):\n",
    "    data = {'username': usernames[i], 'email': emails[i], 'password':  passwords[i]}\n",
    "    r = requests.post(user_url + \"/register\", json=data)\n",
    "    if r.status_code == 500:\n",
    "        fail += 1\n",
    "        \n",
    "print('Testing registering with existing email')\n",
    "print('---------------------------------------')\n",
    "print('Expected Fail Rate: 100%')\n",
    "print(f'{fail / n * 100:.2f}% of registrations failed')"
   ]
  },
  {
   "cell_type": "code",
   "execution_count": 39,
   "metadata": {},
   "outputs": [
    {
     "name": "stdout",
     "output_type": "stream",
     "text": [
      "Testing registering with missing fields\n",
      "---------------------------------------\n",
      "Expected Fail Rate: 100%\n",
      "100.00% of registrations failed\n",
      "Missing usernames: 34\n",
      "Missing emails: 33\n",
      "Missing passwrods: 33\n"
     ]
    }
   ],
   "source": [
    "# Missing Field(s) Register API Calls\n",
    "em = 0\n",
    "user = 0\n",
    "pwd = 0\n",
    "for i in range(n):\n",
    "    data = {'username': usernames[i], 'email': emails[i], 'password':  passwords[i]}\n",
    "    if i % 3 == 0:\n",
    "        data['username'] = ''\n",
    "    if i % 3 == 1:\n",
    "        data['email'] = ''\n",
    "    if i % 3 == 2:\n",
    "        data['password'] = ''\n",
    "        \n",
    "    r = requests.post(user_url + \"/register\", json=data)\n",
    "    if r.status_code == 400:\n",
    "        if r.json()['message'] == 'username required':\n",
    "            user += 1\n",
    "        if r.json()['message'] == 'email required':\n",
    "            em += 1\n",
    "        if r.json()['message'] == 'password required':\n",
    "            pwd += 1\n",
    "            \n",
    "print('Testing registering with missing fields')\n",
    "print('---------------------------------------')\n",
    "print('Expected Fail Rate: 100%')\n",
    "print(f'{(user + em + pwd) / n * 100:.2f}% of registrations failed')\n",
    "print(f'Missing usernames: {user}')\n",
    "print(f'Missing emails: {em}')\n",
    "print(f'Missing passwords: {pwd}')"
   ]
  },
  {
   "cell_type": "code",
   "execution_count": 14,
   "metadata": {},
   "outputs": [],
   "source": [
    "# Login API Calls"
   ]
  },
  {
   "cell_type": "code",
   "execution_count": 15,
   "metadata": {},
   "outputs": [],
   "source": [
    "# Login Validation"
   ]
  },
  {
   "cell_type": "code",
   "execution_count": 16,
   "metadata": {},
   "outputs": [],
   "source": [
    "# Preference Update API Calls"
   ]
  },
  {
   "cell_type": "code",
   "execution_count": 17,
   "metadata": {},
   "outputs": [],
   "source": [
    "# Preference Update Validation"
   ]
  },
  {
   "cell_type": "code",
   "execution_count": 18,
   "metadata": {},
   "outputs": [],
   "source": [
    "# Reset Email API Calls"
   ]
  },
  {
   "cell_type": "code",
   "execution_count": 19,
   "metadata": {},
   "outputs": [],
   "source": [
    "# Reset Email Validation"
   ]
  },
  {
   "cell_type": "code",
   "execution_count": 20,
   "metadata": {},
   "outputs": [],
   "source": [
    "# Reset Password API Calls"
   ]
  },
  {
   "cell_type": "code",
   "execution_count": 21,
   "metadata": {},
   "outputs": [],
   "source": [
    "# Reset Password Validation"
   ]
  },
  {
   "cell_type": "code",
   "execution_count": 22,
   "metadata": {},
   "outputs": [],
   "source": [
    "# Delete Users"
   ]
  }
 ],
 "metadata": {
  "kernelspec": {
   "display_name": "Python 3",
   "language": "python",
   "name": "python3"
  },
  "language_info": {
   "codemirror_mode": {
    "name": "ipython",
    "version": 3
   },
   "file_extension": ".py",
   "mimetype": "text/x-python",
   "name": "python",
   "nbconvert_exporter": "python",
   "pygments_lexer": "ipython3",
   "version": "3.10.7"
  }
 },
 "nbformat": 4,
 "nbformat_minor": 2
}
